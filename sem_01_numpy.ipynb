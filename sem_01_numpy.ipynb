{
 "cells": [
  {
   "cell_type": "code",
   "execution_count": 1,
   "id": "1bb32471",
   "metadata": {},
   "outputs": [],
   "source": [
    "import numpy as np"
   ]
  },
  {
   "cell_type": "markdown",
   "id": "2b618a22",
   "metadata": {},
   "source": [
    "Одномерные массивы (векторы)\\\n",
    "Создание массивов"
   ]
  },
  {
   "cell_type": "code",
   "execution_count": 3,
   "id": "6a5c77cf",
   "metadata": {},
   "outputs": [
    {
     "name": "stdout",
     "output_type": "stream",
     "text": [
      "[2 3 4 4 5]\n",
      "<class 'numpy.ndarray'>\n",
      "int32\n"
     ]
    },
    {
     "data": {
      "text/plain": [
       "(None, None, None)"
      ]
     },
     "execution_count": 3,
     "metadata": {},
     "output_type": "execute_result"
    }
   ],
   "source": [
    "a = np.array([2,3,4,4,5])\n",
    "b = np.array([0,1,2.5,8])\n",
    "c = np.array([1,2,3,'kf'])\n",
    "print(a), print(type(a)), print(a.dtype)"
   ]
  },
  {
   "cell_type": "code",
   "execution_count": 4,
   "id": "f972b2d2",
   "metadata": {},
   "outputs": [
    {
     "name": "stdout",
     "output_type": "stream",
     "text": [
      "[0.  1.  2.5 8. ]\n",
      "<class 'numpy.ndarray'>\n",
      "float64\n"
     ]
    },
    {
     "data": {
      "text/plain": [
       "(None, None, None)"
      ]
     },
     "execution_count": 4,
     "metadata": {},
     "output_type": "execute_result"
    }
   ],
   "source": [
    "print(b), print(type(b)), print(b.dtype)"
   ]
  },
  {
   "cell_type": "code",
   "execution_count": 5,
   "id": "534cd6b3",
   "metadata": {},
   "outputs": [
    {
     "name": "stdout",
     "output_type": "stream",
     "text": [
      "['1' '2' '3' 'kf']\n",
      "<class 'numpy.ndarray'>\n",
      "<U11\n"
     ]
    },
    {
     "data": {
      "text/plain": [
       "(None, None, None)"
      ]
     },
     "execution_count": 5,
     "metadata": {},
     "output_type": "execute_result"
    }
   ],
   "source": [
    "print(c), print(type(c)), print(c.dtype)"
   ]
  },
  {
   "cell_type": "code",
   "execution_count": 6,
   "id": "3ad4ecf9",
   "metadata": {},
   "outputs": [
    {
     "data": {
      "text/plain": [
       "array([0, 1, 2, 8])"
      ]
     },
     "execution_count": 6,
     "metadata": {},
     "output_type": "execute_result"
    }
   ],
   "source": [
    "b.astype(int)"
   ]
  },
  {
   "cell_type": "code",
   "execution_count": 10,
   "id": "32701389",
   "metadata": {},
   "outputs": [
    {
     "data": {
      "text/plain": [
       "(array([0., 0., 0., 0.]), array([1, 1, 1, 1, 1]))"
      ]
     },
     "execution_count": 10,
     "metadata": {},
     "output_type": "execute_result"
    }
   ],
   "source": [
    "zer, oness = np.zeros(4), np.ones(5, dtype='int')\n",
    "zer, oness"
   ]
  },
  {
   "cell_type": "code",
   "execution_count": 11,
   "id": "cd181d1b",
   "metadata": {},
   "outputs": [
    {
     "data": {
      "text/plain": [
       "array([0, 0, 0, 0, 0])"
      ]
     },
     "execution_count": 11,
     "metadata": {},
     "output_type": "execute_result"
    }
   ],
   "source": [
    "np.zeros_like(oness)"
   ]
  },
  {
   "cell_type": "code",
   "execution_count": 12,
   "id": "913cd638",
   "metadata": {},
   "outputs": [
    {
     "data": {
      "text/plain": [
       "array([  0.        ,   5.26315789,  10.52631579,  15.78947368,\n",
       "        21.05263158,  26.31578947,  31.57894737,  36.84210526,\n",
       "        42.10526316,  47.36842105,  52.63157895,  57.89473684,\n",
       "        63.15789474,  68.42105263,  73.68421053,  78.94736842,\n",
       "        84.21052632,  89.47368421,  94.73684211, 100.        ])"
      ]
     },
     "execution_count": 12,
     "metadata": {},
     "output_type": "execute_result"
    }
   ],
   "source": [
    "np.linspace(0, 100, 20)"
   ]
  },
  {
   "cell_type": "markdown",
   "id": "04401c48",
   "metadata": {},
   "source": [
    "Размер"
   ]
  },
  {
   "cell_type": "code",
   "execution_count": 14,
   "id": "965b0bde",
   "metadata": {},
   "outputs": [
    {
     "data": {
      "text/plain": [
       "1"
      ]
     },
     "execution_count": 14,
     "metadata": {},
     "output_type": "execute_result"
    }
   ],
   "source": [
    "a.ndim # размерность массива"
   ]
  },
  {
   "cell_type": "code",
   "execution_count": 16,
   "id": "f3bf25e7",
   "metadata": {},
   "outputs": [
    {
     "data": {
      "text/plain": [
       "(5,)"
      ]
     },
     "execution_count": 16,
     "metadata": {},
     "output_type": "execute_result"
    }
   ],
   "source": [
    "a.shape # размер по координатам"
   ]
  },
  {
   "cell_type": "code",
   "execution_count": 18,
   "id": "048d55c9",
   "metadata": {},
   "outputs": [
    {
     "data": {
      "text/plain": [
       "5"
      ]
     },
     "execution_count": 18,
     "metadata": {},
     "output_type": "execute_result"
    }
   ],
   "source": [
    "a.size # количество всех элементов"
   ]
  },
  {
   "cell_type": "markdown",
   "id": "7ff7b0c3",
   "metadata": {},
   "source": [
    "Индексация"
   ]
  },
  {
   "cell_type": "code",
   "execution_count": 21,
   "id": "894d305d",
   "metadata": {},
   "outputs": [
    {
     "data": {
      "text/plain": [
       "array([2, 3, 4, 4, 5])"
      ]
     },
     "execution_count": 21,
     "metadata": {},
     "output_type": "execute_result"
    }
   ],
   "source": [
    "d = a.copy()\n",
    "d"
   ]
  },
  {
   "cell_type": "markdown",
   "id": "79de2987",
   "metadata": {},
   "source": [
    "Нахождение уникальных элементов"
   ]
  },
  {
   "cell_type": "code",
   "execution_count": 22,
   "id": "1e9f7ae2",
   "metadata": {},
   "outputs": [
    {
     "data": {
      "text/plain": [
       "(array([2, 3, 4, 5]), array([1, 1, 2, 1], dtype=int64))"
      ]
     },
     "execution_count": 22,
     "metadata": {},
     "output_type": "execute_result"
    }
   ],
   "source": [
    "np.unique(d, return_counts=True)"
   ]
  },
  {
   "cell_type": "markdown",
   "id": "4e8503da",
   "metadata": {},
   "source": [
    "Математические операции"
   ]
  },
  {
   "cell_type": "code",
   "execution_count": 31,
   "id": "b83e7044",
   "metadata": {},
   "outputs": [],
   "source": [
    "p = np.array([2,3,4,2,1,0,3])\n",
    "q = np.array([2,3,4,31,2,4,1])"
   ]
  },
  {
   "cell_type": "code",
   "execution_count": 32,
   "id": "a648c1ad",
   "metadata": {},
   "outputs": [
    {
     "name": "stdout",
     "output_type": "stream",
     "text": [
      "[ 4  9 16 62  2  0  3]\n",
      "[4 6 8 4 2 0 6]\n",
      "[ 4  9 16  4  1  0  9]\n",
      "[1.         1.         1.         0.06451613 0.5        0.\n",
      " 3.        ]\n"
     ]
    }
   ],
   "source": [
    "print(p*q)\n",
    "print(p*2)\n",
    "print(p**2)\n",
    "print(p/q)"
   ]
  },
  {
   "cell_type": "code",
   "execution_count": 33,
   "id": "2fe0987e",
   "metadata": {},
   "outputs": [
    {
     "name": "stdout",
     "output_type": "stream",
     "text": [
      "[0.69314718 1.09861229 1.38629436 3.4339872  0.69314718 1.38629436\n",
      " 0.        ]\n",
      "[ 0.90929743  0.14112001 -0.7568025  -0.40403765  0.90929743 -0.7568025\n",
      "  0.84147098]\n",
      "[7.38905610e+00 2.00855369e+01 5.45981500e+01 2.90488497e+13\n",
      " 7.38905610e+00 5.45981500e+01 2.71828183e+00]\n"
     ]
    }
   ],
   "source": [
    "print(np.log(q))\n",
    "print(np.sin(q))\n",
    "print(np.exp(q))"
   ]
  },
  {
   "cell_type": "code",
   "execution_count": 34,
   "id": "8c5b75d7",
   "metadata": {},
   "outputs": [
    {
     "data": {
      "text/plain": [
       "(15, 0, 4, 2.142857142857143, 1.2453996981544782)"
      ]
     },
     "execution_count": 34,
     "metadata": {},
     "output_type": "execute_result"
    }
   ],
   "source": [
    "p.sum(), p.prod(), p.max(), p.mean(), p.std()"
   ]
  },
  {
   "cell_type": "code",
   "execution_count": 35,
   "id": "8a3674d8",
   "metadata": {},
   "outputs": [
    {
     "name": "stdout",
     "output_type": "stream",
     "text": [
      "[False False False  True  True  True False]\n",
      "[ True  True  True False False False False]\n",
      "[False  True  True False False False  True]\n"
     ]
    }
   ],
   "source": [
    "print(p<q)\n",
    "print(p==q)\n",
    "print(p>2)"
   ]
  },
  {
   "cell_type": "markdown",
   "id": "1c7aaa99",
   "metadata": {},
   "source": [
    "Соединение массивов"
   ]
  },
  {
   "cell_type": "code",
   "execution_count": 36,
   "id": "114c6cae",
   "metadata": {},
   "outputs": [
    {
     "data": {
      "text/plain": [
       "array([0, 1, 2, 2, 3, 3, 4])"
      ]
     },
     "execution_count": 36,
     "metadata": {},
     "output_type": "execute_result"
    }
   ],
   "source": [
    "np.sort(p)"
   ]
  },
  {
   "cell_type": "code",
   "execution_count": 37,
   "id": "00911336",
   "metadata": {},
   "outputs": [
    {
     "data": {
      "text/plain": [
       "array([ 2,  3,  4,  2,  1,  0,  3,  2,  3,  4, 31,  2,  4,  1])"
      ]
     },
     "execution_count": 37,
     "metadata": {},
     "output_type": "execute_result"
    }
   ],
   "source": [
    "np.append(p, q)"
   ]
  },
  {
   "cell_type": "code",
   "execution_count": 38,
   "id": "b2e0500a",
   "metadata": {},
   "outputs": [
    {
     "data": {
      "text/plain": [
       "array([2, 3, 4, 2, 1, 0, 3, 1, 1, 1])"
      ]
     },
     "execution_count": 38,
     "metadata": {},
     "output_type": "execute_result"
    }
   ],
   "source": [
    "np.append(p, [1,1,1])"
   ]
  },
  {
   "cell_type": "code",
   "execution_count": 40,
   "id": "843ca1fb",
   "metadata": {},
   "outputs": [
    {
     "data": {
      "text/plain": [
       "array([2, 3, 4, 1, 0, 3])"
      ]
     },
     "execution_count": 40,
     "metadata": {},
     "output_type": "execute_result"
    }
   ],
   "source": [
    "np.delete(p, [3])"
   ]
  },
  {
   "cell_type": "code",
   "execution_count": 41,
   "id": "c598130c",
   "metadata": {},
   "outputs": [
    {
     "data": {
      "text/plain": [
       "array([2, 3, 4, 2, 1, 0, 3])"
      ]
     },
     "execution_count": 41,
     "metadata": {},
     "output_type": "execute_result"
    }
   ],
   "source": [
    "p"
   ]
  },
  {
   "cell_type": "code",
   "execution_count": 43,
   "id": "52a6dbe8",
   "metadata": {},
   "outputs": [
    {
     "data": {
      "text/plain": [
       "array([  2,   3, 100, 100,   4,   2,   1,   0,   3])"
      ]
     },
     "execution_count": 43,
     "metadata": {},
     "output_type": "execute_result"
    }
   ],
   "source": [
    "np.insert(p, 2, [100,100])"
   ]
  },
  {
   "cell_type": "code",
   "execution_count": 44,
   "id": "95e492d7",
   "metadata": {},
   "outputs": [
    {
     "data": {
      "text/plain": [
       "96"
      ]
     },
     "execution_count": 44,
     "metadata": {},
     "output_type": "execute_result"
    }
   ],
   "source": [
    "p.dot(q)"
   ]
  },
  {
   "cell_type": "markdown",
   "id": "cc6d9193",
   "metadata": {},
   "source": [
    "Двумерный массив"
   ]
  },
  {
   "cell_type": "code",
   "execution_count": 46,
   "id": "f4879a79",
   "metadata": {},
   "outputs": [],
   "source": [
    "A = np.array([\n",
    "    [2,3,4],\n",
    "    [1,6,8],\n",
    "    [6,5,7]\n",
    "])"
   ]
  },
  {
   "cell_type": "code",
   "execution_count": 48,
   "id": "6b3dc0e8",
   "metadata": {},
   "outputs": [],
   "source": [
    "B = np.array([\n",
    "    [2,3],\n",
    "    [8,0],\n",
    "    [2.5,3]\n",
    "])"
   ]
  },
  {
   "cell_type": "code",
   "execution_count": 51,
   "id": "96e24373",
   "metadata": {},
   "outputs": [
    {
     "data": {
      "text/plain": [
       "dtype('float64')"
      ]
     },
     "execution_count": 51,
     "metadata": {},
     "output_type": "execute_result"
    }
   ],
   "source": [
    "B.dtype"
   ]
  },
  {
   "cell_type": "code",
   "execution_count": 52,
   "id": "bf22f711",
   "metadata": {},
   "outputs": [
    {
     "data": {
      "text/plain": [
       "array([[1.],\n",
       "       [0.]])"
      ]
     },
     "execution_count": 52,
     "metadata": {},
     "output_type": "execute_result"
    }
   ],
   "source": [
    "np.eye(2,1)"
   ]
  },
  {
   "cell_type": "code",
   "execution_count": 54,
   "id": "8598c0b4",
   "metadata": {},
   "outputs": [
    {
     "data": {
      "text/plain": [
       "(2, (3, 3), 9)"
      ]
     },
     "execution_count": 54,
     "metadata": {},
     "output_type": "execute_result"
    }
   ],
   "source": [
    "A.ndim, A.shape, A.size"
   ]
  },
  {
   "cell_type": "code",
   "execution_count": 55,
   "id": "f0c6bfea",
   "metadata": {},
   "outputs": [
    {
     "data": {
      "text/plain": [
       "array([2, 3, 4, 1, 6, 8, 6, 5, 7])"
      ]
     },
     "execution_count": 55,
     "metadata": {},
     "output_type": "execute_result"
    }
   ],
   "source": [
    "A.ravel()"
   ]
  },
  {
   "cell_type": "code",
   "execution_count": 57,
   "id": "b835f6d9",
   "metadata": {},
   "outputs": [
    {
     "data": {
      "text/plain": [
       "array([2, 3, 4, 1, 6, 8, 6, 5, 7])"
      ]
     },
     "execution_count": 57,
     "metadata": {},
     "output_type": "execute_result"
    }
   ],
   "source": [
    "A.reshape(9) # указать кол-во элементов"
   ]
  },
  {
   "cell_type": "code",
   "execution_count": 62,
   "id": "2f64ab9c",
   "metadata": {},
   "outputs": [],
   "source": [
    "C = np.linspace(1,20,6)"
   ]
  },
  {
   "cell_type": "code",
   "execution_count": 64,
   "id": "ea4511de",
   "metadata": {},
   "outputs": [
    {
     "data": {
      "text/plain": [
       "array([[ 1. ,  4.8,  8.6],\n",
       "       [12.4, 16.2, 20. ]])"
      ]
     },
     "execution_count": 64,
     "metadata": {},
     "output_type": "execute_result"
    }
   ],
   "source": [
    "C.shape = 2, 3\n",
    "C"
   ]
  },
  {
   "cell_type": "code",
   "execution_count": 65,
   "id": "4597ad00",
   "metadata": {},
   "outputs": [
    {
     "data": {
      "text/plain": [
       "array([[ 1. ,  4.8,  8.6],\n",
       "       [12.4, 16.2, 20. ]])"
      ]
     },
     "execution_count": 65,
     "metadata": {},
     "output_type": "execute_result"
    }
   ],
   "source": [
    "C.reshape(2,3)"
   ]
  },
  {
   "cell_type": "code",
   "execution_count": 66,
   "id": "efe97b01",
   "metadata": {},
   "outputs": [
    {
     "data": {
      "text/plain": [
       "array([ 9, 15, 18])"
      ]
     },
     "execution_count": 66,
     "metadata": {},
     "output_type": "execute_result"
    }
   ],
   "source": [
    "A.sum(axis=1)"
   ]
  },
  {
   "cell_type": "code",
   "execution_count": 67,
   "id": "3fe32e4f",
   "metadata": {},
   "outputs": [
    {
     "data": {
      "text/plain": [
       "array([ 9, 14, 19])"
      ]
     },
     "execution_count": 67,
     "metadata": {},
     "output_type": "execute_result"
    }
   ],
   "source": [
    "A.sum(axis=0)"
   ]
  },
  {
   "cell_type": "code",
   "execution_count": 70,
   "id": "cde84709",
   "metadata": {},
   "outputs": [
    {
     "data": {
      "text/plain": [
       "15"
      ]
     },
     "execution_count": 70,
     "metadata": {},
     "output_type": "execute_result"
    }
   ],
   "source": [
    "A.trace() # сумма диагональных элементов"
   ]
  },
  {
   "cell_type": "code",
   "execution_count": 72,
   "id": "34e08ec6",
   "metadata": {},
   "outputs": [
    {
     "data": {
      "text/plain": [
       "array([[2. , 3. , 4. , 2. , 3. ],\n",
       "       [1. , 6. , 8. , 8. , 0. ],\n",
       "       [6. , 5. , 7. , 2.5, 3. ]])"
      ]
     },
     "execution_count": 72,
     "metadata": {},
     "output_type": "execute_result"
    }
   ],
   "source": [
    "np.hstack((A, B))"
   ]
  },
  {
   "cell_type": "code",
   "execution_count": 74,
   "id": "951ebcc8",
   "metadata": {},
   "outputs": [
    {
     "data": {
      "text/plain": [
       "array([[2, 3, 4],\n",
       "       [1, 6, 8],\n",
       "       [6, 5, 7],\n",
       "       [2, 3, 4],\n",
       "       [1, 6, 8],\n",
       "       [6, 5, 7]])"
      ]
     },
     "execution_count": 74,
     "metadata": {},
     "output_type": "execute_result"
    }
   ],
   "source": [
    "np.vstack((A,A))"
   ]
  },
  {
   "cell_type": "code",
   "execution_count": null,
   "id": "9956ac27",
   "metadata": {},
   "outputs": [],
   "source": []
  }
 ],
 "metadata": {
  "kernelspec": {
   "display_name": "Python 3 (ipykernel)",
   "language": "python",
   "name": "python3"
  },
  "language_info": {
   "codemirror_mode": {
    "name": "ipython",
    "version": 3
   },
   "file_extension": ".py",
   "mimetype": "text/x-python",
   "name": "python",
   "nbconvert_exporter": "python",
   "pygments_lexer": "ipython3",
   "version": "3.9.12"
  }
 },
 "nbformat": 4,
 "nbformat_minor": 5
}
